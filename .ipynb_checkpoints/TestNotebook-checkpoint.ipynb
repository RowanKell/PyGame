{
 "cells": [
  {
   "cell_type": "code",
   "execution_count": 1,
   "id": "46f6ffba",
   "metadata": {},
   "outputs": [],
   "source": [
    "import numpy as np"
   ]
  },
  {
   "cell_type": "code",
   "execution_count": 3,
   "id": "407149a3",
   "metadata": {},
   "outputs": [
    {
     "name": "stdout",
     "output_type": "stream",
     "text": [
      "b'S'\n",
      "b'S'\n",
      "b'S'\n",
      "b'S'\n",
      "b'S'\n",
      "b'S'\n",
      "b'S'\n",
      "b'S'\n",
      "b'S'\n",
      "b'S'\n"
     ]
    }
   ],
   "source": [
    "for i in range(10):\n",
    "    enemy_images = np.array(10)\n",
    "    enemy_images[i] = \"Sprites/enemy\"# + str(i) + \".png\"\n",
    "    print(enemy_images[i])"
   ]
  },
  {
   "cell_type": "code",
   "execution_count": null,
   "id": "665f09ed",
   "metadata": {},
   "outputs": [],
   "source": []
  }
 ],
 "metadata": {
  "kernelspec": {
   "display_name": "Python 3 (ipykernel)",
   "language": "python",
   "name": "python3"
  },
  "language_info": {
   "codemirror_mode": {
    "name": "ipython",
    "version": 3
   },
   "file_extension": ".py",
   "mimetype": "text/x-python",
   "name": "python",
   "nbconvert_exporter": "python",
   "pygments_lexer": "ipython3",
   "version": "3.9.7"
  }
 },
 "nbformat": 4,
 "nbformat_minor": 5
}
